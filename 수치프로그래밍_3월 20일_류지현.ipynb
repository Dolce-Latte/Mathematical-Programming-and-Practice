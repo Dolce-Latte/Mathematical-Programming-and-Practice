{
 "cells": [
  {
   "cell_type": "markdown",
   "id": "9085841c",
   "metadata": {},
   "source": [
    "# string function"
   ]
  },
  {
   "cell_type": "code",
   "execution_count": 6,
   "id": "dd5001d3",
   "metadata": {},
   "outputs": [
    {
     "name": "stdout",
     "output_type": "stream",
     "text": [
      "4\n",
      "1\n",
      "0\n",
      "a.b.c.d\n",
      "ABCD\n",
      "abcd\n",
      "abcd    \n",
      "    abcd\n",
      "abcd\n",
      "zbcdefzbcdefg\n",
      "['Python', 'is', 'simple', 'language']\n"
     ]
    }
   ],
   "source": [
    "x = 'abcd'\n",
    "\n",
    "print(len(x))\n",
    "print(x.count('a'))\n",
    "print(x.find('a'))\n",
    "print('.'.join(x))\n",
    "print(x.upper())\n",
    "print('ABCD'.lower())\n",
    "print('    abcd    '.lstrip())\n",
    "print('    abcd    '.rstrip())\n",
    "print('    abcd    '.strip())\n",
    "print('abcdefabcdefg'.replace('a', 'z'))\n",
    "print('Python is simple language'.split())"
   ]
  },
  {
   "cell_type": "code",
   "execution_count": 9,
   "id": "34af191b",
   "metadata": {},
   "outputs": [
    {
     "name": "stdout",
     "output_type": "stream",
     "text": [
      "3\n",
      "0\n"
     ]
    }
   ],
   "source": [
    "y = \"수치프로그램및실습, 수치해석및실습, 선형계획및실습\"\n",
    "print(y.count(\"실\"))\n",
    "print(y.find(\"수\"))"
   ]
  },
  {
   "cell_type": "markdown",
   "id": "de4b60ef",
   "metadata": {},
   "source": [
    "# Comparison operator"
   ]
  },
  {
   "cell_type": "code",
   "execution_count": 10,
   "id": "04401695",
   "metadata": {},
   "outputs": [],
   "source": [
    "x, y = 100, -100"
   ]
  },
  {
   "cell_type": "code",
   "execution_count": 11,
   "id": "ae9e1f72",
   "metadata": {},
   "outputs": [
    {
     "name": "stdout",
     "output_type": "stream",
     "text": [
      "False\n"
     ]
    }
   ],
   "source": [
    "print(x==y)"
   ]
  },
  {
   "cell_type": "code",
   "execution_count": 12,
   "id": "2473dad0",
   "metadata": {},
   "outputs": [
    {
     "name": "stdout",
     "output_type": "stream",
     "text": [
      "True\n"
     ]
    }
   ],
   "source": [
    "print(x!=y)"
   ]
  },
  {
   "cell_type": "code",
   "execution_count": 13,
   "id": "31ba8da8",
   "metadata": {},
   "outputs": [
    {
     "name": "stdout",
     "output_type": "stream",
     "text": [
      "True\n"
     ]
    }
   ],
   "source": [
    "print(x>y)"
   ]
  },
  {
   "cell_type": "code",
   "execution_count": 14,
   "id": "8df390f7",
   "metadata": {},
   "outputs": [
    {
     "name": "stdout",
     "output_type": "stream",
     "text": [
      "False\n"
     ]
    }
   ],
   "source": [
    "print(x<=y)"
   ]
  },
  {
   "cell_type": "markdown",
   "id": "9ff1f760",
   "metadata": {},
   "source": [
    "# List"
   ]
  },
  {
   "cell_type": "code",
   "execution_count": 15,
   "id": "ea2d92c5",
   "metadata": {},
   "outputs": [
    {
     "name": "stdout",
     "output_type": "stream",
     "text": [
      "[]\n"
     ]
    }
   ],
   "source": [
    "a = []\n",
    "print(a)"
   ]
  },
  {
   "cell_type": "markdown",
   "id": "a6c93224",
   "metadata": {},
   "source": [
    "##### list indexing"
   ]
  },
  {
   "cell_type": "code",
   "execution_count": 16,
   "id": "00bac72a",
   "metadata": {},
   "outputs": [
    {
     "name": "stdout",
     "output_type": "stream",
     "text": [
      "1\n"
     ]
    }
   ],
   "source": [
    "x = [1,2,3,4]\n",
    "print(x[0]) # x[0] = 1"
   ]
  },
  {
   "cell_type": "code",
   "execution_count": 17,
   "id": "4b815122",
   "metadata": {},
   "outputs": [
    {
     "name": "stdout",
     "output_type": "stream",
     "text": [
      "[[1, 2, 3], [4, 5, 6], [7, 8, 9]]\n"
     ]
    }
   ],
   "source": [
    "y = [[1,2,3,], [4,5,6], [7,8,9]]\n",
    "print(y)"
   ]
  },
  {
   "cell_type": "code",
   "execution_count": 19,
   "id": "5793a1e1",
   "metadata": {},
   "outputs": [
    {
     "name": "stdout",
     "output_type": "stream",
     "text": [
      "1 2 3 \n",
      "4 5 6 \n",
      "7 8 9 \n"
     ]
    }
   ],
   "source": [
    "for i in range(len(y)):\n",
    "    for j in range(len(y[0])):\n",
    "        print(y[i][j], end=\" \")\n",
    "    print()"
   ]
  },
  {
   "cell_type": "code",
   "execution_count": 26,
   "id": "a4b19d94",
   "metadata": {},
   "outputs": [
    {
     "name": "stdout",
     "output_type": "stream",
     "text": [
      "[1, 2, 3]\n"
     ]
    }
   ],
   "source": [
    "print(y[:][0])"
   ]
  },
  {
   "cell_type": "code",
   "execution_count": 36,
   "id": "d69cd29f",
   "metadata": {},
   "outputs": [
    {
     "name": "stdout",
     "output_type": "stream",
     "text": [
      "[5, 6]\n"
     ]
    }
   ],
   "source": [
    "z = [1,[2,[3,[4,[5,6]]]]]\n",
    "print(z[1][1][1][1])"
   ]
  },
  {
   "cell_type": "markdown",
   "id": "d1f7e671",
   "metadata": {},
   "source": [
    "# 실습"
   ]
  },
  {
   "cell_type": "code",
   "execution_count": 47,
   "id": "15133621",
   "metadata": {},
   "outputs": [
    {
     "name": "stdout",
     "output_type": "stream",
     "text": [
      "입력받은 주민등록번호 : 010219-4035471\n",
      "['2월', '19일', '성별 : F']\n"
     ]
    }
   ],
   "source": [
    "s = input(\"입력받은 주민등록번호 : \")\n",
    "m = str(int(s[2:4])) + \"월\"\n",
    "d = str(int(s[4:6])) + \"일\"\n",
    "ss = int(s[7]) % 2\n",
    "sss = [\"F\", \"M\"]\n",
    "ssss = \"성별 : \" + sss[ss]\n",
    "l = [m, d, ssss]\n",
    "print(l)"
   ]
  },
  {
   "cell_type": "code",
   "execution_count": null,
   "id": "8a3c36de",
   "metadata": {},
   "outputs": [],
   "source": []
  }
 ],
 "metadata": {
  "kernelspec": {
   "display_name": "Python 3 (ipykernel)",
   "language": "python",
   "name": "python3"
  },
  "language_info": {
   "codemirror_mode": {
    "name": "ipython",
    "version": 3
   },
   "file_extension": ".py",
   "mimetype": "text/x-python",
   "name": "python",
   "nbconvert_exporter": "python",
   "pygments_lexer": "ipython3",
   "version": "3.9.16"
  }
 },
 "nbformat": 4,
 "nbformat_minor": 5
}

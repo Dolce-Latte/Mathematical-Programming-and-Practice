{
  "cells": [
    {
      "cell_type": "markdown",
      "metadata": {
        "id": "view-in-github",
        "colab_type": "text"
      },
      "source": [
        "<a href=\"https://colab.research.google.com/github/Dolce-Latte/Mathematical-Programming-and-Practice/blob/main/5%EC%A3%BC1%ED%9A%8C%EC%B0%A8_%EC%88%98%EC%B9%98%ED%94%84%EB%A1%9C%EA%B7%B8%EB%9E%98%EB%B0%8D%EA%B0%95%EC%9D%98_201802088%EB%A5%98%EC%A7%80%ED%98%84.ipynb\" target=\"_parent\"><img src=\"https://colab.research.google.com/assets/colab-badge.svg\" alt=\"Open In Colab\"/></a>"
      ]
    },
    {
      "cell_type": "markdown",
      "id": "37158162",
      "metadata": {
        "id": "37158162"
      },
      "source": [
        "### 사용자 입력 및 출력"
      ]
    },
    {
      "cell_type": "code",
      "execution_count": 1,
      "id": "a840503f",
      "metadata": {
        "colab": {
          "base_uri": "https://localhost:8080/"
        },
        "id": "a840503f",
        "outputId": "c195aaad-443b-4d42-8b0e-77b7137b117d"
      },
      "outputs": [
        {
          "output_type": "stream",
          "name": "stdout",
          "text": [
            "이름을 입력하세요.류지현\n",
            "류지현\n"
          ]
        }
      ],
      "source": [
        "x = input(\"이름을 입력하세요.\")\n",
        "print(x)"
      ]
    },
    {
      "cell_type": "code",
      "execution_count": 2,
      "id": "3f1450ab",
      "metadata": {
        "colab": {
          "base_uri": "https://localhost:8080/"
        },
        "id": "3f1450ab",
        "outputId": "604d68a4-43d8-4e5f-c0d0-0c3528d21f82"
      },
      "outputs": [
        {
          "output_type": "stream",
          "name": "stdout",
          "text": [
            "숫자를 입력하세요.234\n",
            "<class 'int'>\n"
          ]
        }
      ],
      "source": [
        "x = int(input(\"숫자를 입력하세요.\"))\n",
        "print(type(x))"
      ]
    },
    {
      "cell_type": "code",
      "execution_count": 3,
      "outputs": [
        {
          "output_type": "stream",
          "name": "stdout",
          "text": [
            "숫자를 입력하세요.2394\n",
            "2394.0\n"
          ]
        }
      ],
      "source": [
        "x = float(input(\"숫자를 입력하세요.\"))\n",
        "print(x)"
      ],
      "metadata": {
        "colab": {
          "base_uri": "https://localhost:8080/"
        },
        "id": "5VZOcNi23kZr",
        "outputId": "b33ea83f-6129-41b8-c6fc-8e2d39bf8fc7"
      },
      "id": "5VZOcNi23kZr"
    },
    {
      "cell_type": "code",
      "execution_count": 4,
      "outputs": [
        {
          "output_type": "stream",
          "name": "stdout",
          "text": [
            "문자열들을 쉼표로 구분하여 입력 : ㅁ,ㅍ,ㅊ,ㅇ,ㅎ\n",
            "['ㅁ', 'ㅍ', 'ㅊ', 'ㅇ', 'ㅎ']\n"
          ]
        }
      ],
      "source": [
        "x = input(\"문자열들을 쉼표로 구분하여 입력 : \").split(\",\")\n",
        "print(x)"
      ],
      "metadata": {
        "colab": {
          "base_uri": "https://localhost:8080/"
        },
        "id": "MDTGvQog3kZr",
        "outputId": "13b68bd4-4603-48f4-e813-d0b468232b26"
      },
      "id": "MDTGvQog3kZr"
    },
    {
      "cell_type": "code",
      "execution_count": 5,
      "outputs": [
        {
          "output_type": "stream",
          "name": "stdout",
          "text": [
            "쉼표로 구분하여 입력 :2,4,5,323,\n",
            "<map object at 0x7f660659cc70>\n"
          ]
        }
      ],
      "source": [
        "x = map(int, input(\"쉼표로 구분하여 입력 :\").split(\",\"))\n",
        "print(x)"
      ],
      "metadata": {
        "colab": {
          "base_uri": "https://localhost:8080/"
        },
        "id": "DFbsnNhH3kZr",
        "outputId": "557974b3-8ca0-4922-ce5c-e0f0ad77aa05"
      },
      "id": "DFbsnNhH3kZr"
    },
    {
      "cell_type": "code",
      "execution_count": 6,
      "outputs": [
        {
          "output_type": "stream",
          "name": "stdout",
          "text": [
            "쉼표로 구분하여 입력 :1,2,3,4,5\n",
            "[1, 2, 3, 4, 5]\n"
          ]
        }
      ],
      "source": [
        "x = list(map(int, input(\"쉼표로 구분하여 입력 :\").split(\",\")))\n",
        "print(x)"
      ],
      "metadata": {
        "colab": {
          "base_uri": "https://localhost:8080/"
        },
        "id": "mWM-vHSC3kZs",
        "outputId": "cdb55315-7838-4d1f-c92a-b641872edde4"
      },
      "id": "mWM-vHSC3kZs"
    },
    {
      "cell_type": "code",
      "execution_count": 7,
      "outputs": [
        {
          "output_type": "stream",
          "name": "stdout",
          "text": [
            "쉼표로 구분하여 입력 :2.0, 3.4, 5.6\n",
            "(2.0, 3.4, 5.6)\n"
          ]
        }
      ],
      "source": [
        "x = tuple(map(float, input(\"쉼표로 구분하여 입력 :\").split(\",\")))\n",
        "print(x)"
      ],
      "metadata": {
        "colab": {
          "base_uri": "https://localhost:8080/"
        },
        "id": "_Ys0twSh3kZs",
        "outputId": "46bad262-d5f8-4d8f-dd6d-ff7bab58a600"
      },
      "id": "_Ys0twSh3kZs"
    },
    {
      "cell_type": "markdown",
      "source": [
        "### IF 문"
      ],
      "metadata": {
        "collapsed": false,
        "id": "3F-hOmmu3kZs"
      },
      "id": "3F-hOmmu3kZs"
    },
    {
      "cell_type": "code",
      "execution_count": 8,
      "outputs": [
        {
          "output_type": "stream",
          "name": "stdout",
          "text": [
            "a is 200\n",
            "This is false\n",
            "End\n"
          ]
        }
      ],
      "source": [
        "a = 200\n",
        "print('a is %d' %a)\n",
        "\n",
        "if a < 100:\n",
        "    print(\"This is less than 100.\")\n",
        "print(\"This is false\")\n",
        "print('End')"
      ],
      "metadata": {
        "colab": {
          "base_uri": "https://localhost:8080/"
        },
        "id": "B0fmABZS3kZs",
        "outputId": "883de9fe-19f8-49f5-91fd-76a1129527ea"
      },
      "id": "B0fmABZS3kZs"
    },
    {
      "cell_type": "code",
      "execution_count": 9,
      "outputs": [
        {
          "output_type": "stream",
          "name": "stdout",
          "text": [
            "a is 200\n",
            "End\n"
          ]
        }
      ],
      "source": [
        "a = 200\n",
        "print('a is %d' %a)\n",
        "\n",
        "if a < 100:\n",
        "    print(\"This is less than 100.\")\n",
        "    print(\"This is false\")\n",
        "print('End')"
      ],
      "metadata": {
        "colab": {
          "base_uri": "https://localhost:8080/"
        },
        "id": "wSldGoqj3kZs",
        "outputId": "7a999f64-c72e-47cd-b93a-9af23401d98d"
      },
      "id": "wSldGoqj3kZs"
    },
    {
      "cell_type": "code",
      "execution_count": 10,
      "outputs": [
        {
          "output_type": "stream",
          "name": "stdout",
          "text": [
            "Input an integer : 1893053091\n",
            "This is ood.\n"
          ]
        }
      ],
      "source": [
        "a = int(input(\"Input an integer : \"))\n",
        "\n",
        "if a % 2 == 0:\n",
        "    print(\"This is even.\")\n",
        "else:\n",
        "    print(\"This is ood.\")"
      ],
      "metadata": {
        "colab": {
          "base_uri": "https://localhost:8080/"
        },
        "id": "2fGJPmwi3kZs",
        "outputId": "8de301db-3b43-402c-e8d3-8440a7bd71ab"
      },
      "id": "2fGJPmwi3kZs"
    },
    {
      "cell_type": "code",
      "execution_count": 11,
      "outputs": [
        {
          "output_type": "stream",
          "name": "stdout",
          "text": [
            "가지고 있는 현금? : 4000\n",
            "카드를 가지고 있으면 True, 없다면 False를 입력 : False\n",
            "택시타라\n"
          ]
        }
      ],
      "source": [
        "money = int(input(\"가지고 있는 현금? : \"))\n",
        "card = bool(input(\"카드를 가지고 있으면 True, 없다면 False를 입력 : \"))\n",
        "\n",
        "if money >= 3000 or card == \"True\":\n",
        "    print(\"택시타라\")\n",
        "else:\n",
        "    print(\"버스타라\")"
      ],
      "metadata": {
        "colab": {
          "base_uri": "https://localhost:8080/"
        },
        "id": "dyL3UfRr3kZt",
        "outputId": "42489f00-cfcc-49e8-c652-b38e1acb76e3"
      },
      "id": "dyL3UfRr3kZt"
    },
    {
      "cell_type": "code",
      "execution_count": 12,
      "outputs": [
        {
          "output_type": "stream",
          "name": "stdout",
          "text": [
            "Input your score : 68\n",
            "D\n",
            "This is your grade.\n"
          ]
        }
      ],
      "source": [
        "score = int(input(\"Input your score : \"))\n",
        "\n",
        "if score >= 90:\n",
        "    print(\"A\")\n",
        "else:\n",
        "    if score >= 80:\n",
        "        print(\"B\")\n",
        "    else:\n",
        "        if score >= 70:\n",
        "            print(\"C\")\n",
        "        else:\n",
        "            if score >= 60:\n",
        "                print(\"D\")\n",
        "            else:\n",
        "                print(\"F\")\n",
        "\n",
        "print(\"This is your grade.\")"
      ],
      "metadata": {
        "colab": {
          "base_uri": "https://localhost:8080/"
        },
        "id": "BrbDP98V3kZt",
        "outputId": "d5024a7b-fa9d-4257-a198-fbdebe9d3c42"
      },
      "id": "BrbDP98V3kZt"
    },
    {
      "cell_type": "code",
      "execution_count": 13,
      "outputs": [
        {
          "output_type": "stream",
          "name": "stdout",
          "text": [
            "Input your score : 88\n",
            "B\n",
            "This is your grade.\n"
          ]
        }
      ],
      "source": [
        "score = int(input(\"Input your score : \"))\n",
        "\n",
        "if score >= 90:\n",
        "    print(\"A\")\n",
        "elif score >= 80:\n",
        "    print(\"B\")\n",
        "elif score >= 70:\n",
        "    print(\"C\")\n",
        "elif score >= 60:\n",
        "    print(\"D\")\n",
        "else:\n",
        "    print(\"F\")\n",
        "\n",
        "print(\"This is your grade.\")"
      ],
      "metadata": {
        "colab": {
          "base_uri": "https://localhost:8080/"
        },
        "id": "2Mzm-d6K3kZt",
        "outputId": "939e2c43-7233-4731-ae23-b414645727eb"
      },
      "id": "2Mzm-d6K3kZt"
    },
    {
      "cell_type": "markdown",
      "source": [
        "### 실습"
      ],
      "metadata": {
        "collapsed": false,
        "id": "9XqvyfGX3kZt"
      },
      "id": "9XqvyfGX3kZt"
    },
    {
      "cell_type": "code",
      "execution_count": 14,
      "outputs": [
        {
          "output_type": "stream",
          "name": "stdout",
          "text": [
            "연도를 입력해주세요.2020\n",
            "2020년은 윤년이다.\n"
          ]
        }
      ],
      "source": [
        "year = int(input(\"연도를 입력해주세요.\"))\n",
        "\n",
        "if ((year % 4 == 0 ) and (year % 100 != 0)) or (year % 400 == 0):\n",
        "    print(f\"{year}년은 윤년이다.\")\n",
        "else:\n",
        "    print(f\"{year}년은 윤년이 아니다.\")"
      ],
      "metadata": {
        "colab": {
          "base_uri": "https://localhost:8080/"
        },
        "id": "uoGdgTWZ3kZt",
        "outputId": "404064a3-184e-41e1-9c48-b9c1abb97fcc"
      },
      "id": "uoGdgTWZ3kZt"
    },
    {
      "cell_type": "code",
      "execution_count": 15,
      "outputs": [
        {
          "output_type": "stream",
          "name": "stdout",
          "text": [
            "연도를 입력해주세요.2023\n",
            "2023년은 윤년이 아니다.\n"
          ]
        }
      ],
      "source": [
        "year = int(input(\"연도를 입력해주세요.\"))\n",
        "\n",
        "if ((year % 4 == 0 ) and (year % 100 != 0)) or (year % 400 == 0):\n",
        "    print(f\"{year}년은 윤년이다.\")\n",
        "else:\n",
        "    print(f\"{year}년은 윤년이 아니다.\")"
      ],
      "metadata": {
        "colab": {
          "base_uri": "https://localhost:8080/"
        },
        "id": "CVAFPuj43kZt",
        "outputId": "06da2a68-cd83-4af5-da69-af7eb7047c99"
      },
      "id": "CVAFPuj43kZt"
    }
  ],
  "metadata": {
    "kernelspec": {
      "display_name": "Python 3 (ipykernel)",
      "language": "python",
      "name": "python3"
    },
    "language_info": {
      "codemirror_mode": {
        "name": "ipython",
        "version": 3
      },
      "file_extension": ".py",
      "mimetype": "text/x-python",
      "name": "python",
      "nbconvert_exporter": "python",
      "pygments_lexer": "ipython3",
      "version": "3.10.10"
    },
    "colab": {
      "provenance": [],
      "include_colab_link": true
    }
  },
  "nbformat": 4,
  "nbformat_minor": 5
}
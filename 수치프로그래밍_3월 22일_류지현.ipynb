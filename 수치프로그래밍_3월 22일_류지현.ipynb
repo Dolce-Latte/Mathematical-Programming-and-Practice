{
 "cells": [
  {
   "cell_type": "markdown",
   "id": "e9d16105-14b3-4dc0-89d1-972bbf6fab86",
   "metadata": {},
   "source": [
    "##### 지난 실습"
   ]
  },
  {
   "cell_type": "code",
   "execution_count": 16,
   "id": "75297fa8-27f1-4707-bbbf-846d6df17905",
   "metadata": {},
   "outputs": [
    {
     "name": "stdout",
     "output_type": "stream",
     "text": [
      "입력받은 주민등록번호 : 010219-4035471\n",
      "['2월', '19일', '성별 : F']\n"
     ]
    }
   ],
   "source": [
    "social_num = \"010219-4035471\"\n",
    "\n",
    "print(\"입력받은 주민등록번호 : \" + social_num)\n",
    "\n",
    "month = str(int(social_num[2:4]))\n",
    "day = str(int(social_num[4:6]))\n",
    "s = social_num[7]\n",
    "\n",
    "s1 = s.replace(\"1\", \"M\")\n",
    "s1 = s1.replace(\"3\", \"M\")\n",
    "s1 = s1.replace(\"2\", \"F\")\n",
    "s1 = s1.replace(\"4\", \"F\")\n",
    "\n",
    "result = month + \"월,\" + day + \"일,\" + \"성별 : \" + s1\n",
    "print(result.split(\",\"))"
   ]
  },
  {
   "cell_type": "markdown",
   "id": "c79f9818",
   "metadata": {},
   "source": [
    "# 3월 22일"
   ]
  },
  {
   "cell_type": "markdown",
   "id": "07f97baa",
   "metadata": {},
   "source": [
    "#### list operation"
   ]
  },
  {
   "cell_type": "code",
   "execution_count": 17,
   "id": "123362e0",
   "metadata": {},
   "outputs": [
    {
     "name": "stdout",
     "output_type": "stream",
     "text": [
      "[1, 2, 3, 2, 3, 4]\n"
     ]
    }
   ],
   "source": [
    "x = [1, 2, 3]\n",
    "y = [2, 3, 4]\n",
    "print(x + y)"
   ]
  },
  {
   "cell_type": "code",
   "execution_count": null,
   "id": "8fe891f4",
   "metadata": {},
   "outputs": [],
   "source": [
    "# a[1,2,3,4,5]\n",
    "# del a[:2]\n",
    "# result : a[3,4,5]"
   ]
  },
  {
   "cell_type": "code",
   "execution_count": 31,
   "id": "fea47096",
   "metadata": {},
   "outputs": [],
   "source": [
    "x = [3, 1,2,4]\n",
    "# print(x.remove(2))"
   ]
  },
  {
   "cell_type": "code",
   "execution_count": 32,
   "id": "5927489c",
   "metadata": {},
   "outputs": [],
   "source": [
    "y = x.copy()"
   ]
  },
  {
   "cell_type": "code",
   "execution_count": 33,
   "id": "d3ff550e",
   "metadata": {},
   "outputs": [
    {
     "name": "stdout",
     "output_type": "stream",
     "text": [
      "[3, 1, 2, 4]\n"
     ]
    }
   ],
   "source": [
    "print(y)"
   ]
  },
  {
   "cell_type": "code",
   "execution_count": 34,
   "id": "81d56a5d",
   "metadata": {},
   "outputs": [
    {
     "name": "stdout",
     "output_type": "stream",
     "text": [
      "None\n",
      "[1, 2, 3, 4]\n"
     ]
    }
   ],
   "source": [
    "print(x.sort())\n",
    "print(x)"
   ]
  },
  {
   "cell_type": "code",
   "execution_count": 35,
   "id": "87928c12",
   "metadata": {},
   "outputs": [],
   "source": [
    "x.extend([[1]])"
   ]
  },
  {
   "cell_type": "code",
   "execution_count": 36,
   "id": "16bbd8c5",
   "metadata": {},
   "outputs": [
    {
     "data": {
      "text/plain": [
       "[1, 2, 3, 4, [1]]"
      ]
     },
     "execution_count": 36,
     "metadata": {},
     "output_type": "execute_result"
    }
   ],
   "source": [
    "x"
   ]
  },
  {
   "cell_type": "code",
   "execution_count": 37,
   "id": "5d10c4bb",
   "metadata": {},
   "outputs": [],
   "source": [
    "y = x.copy()"
   ]
  },
  {
   "cell_type": "code",
   "execution_count": 38,
   "id": "56ceb804",
   "metadata": {},
   "outputs": [
    {
     "name": "stdout",
     "output_type": "stream",
     "text": [
      "[1, 2, 3, 4, [1]]\n"
     ]
    }
   ],
   "source": [
    "print(x)"
   ]
  },
  {
   "cell_type": "code",
   "execution_count": 39,
   "id": "649155a7",
   "metadata": {},
   "outputs": [
    {
     "name": "stdout",
     "output_type": "stream",
     "text": [
      "[1, 2, 3, 4, [1]]\n"
     ]
    }
   ],
   "source": [
    "print(y)"
   ]
  },
  {
   "cell_type": "code",
   "execution_count": 40,
   "id": "269182d9",
   "metadata": {},
   "outputs": [],
   "source": [
    "x.extend([[2]])"
   ]
  },
  {
   "cell_type": "code",
   "execution_count": 41,
   "id": "c710adce",
   "metadata": {},
   "outputs": [
    {
     "name": "stdout",
     "output_type": "stream",
     "text": [
      "[1, 2, 3, 4, [1], [2]]\n"
     ]
    }
   ],
   "source": [
    "print(x)"
   ]
  },
  {
   "cell_type": "code",
   "execution_count": 42,
   "id": "7a053e91",
   "metadata": {},
   "outputs": [
    {
     "name": "stdout",
     "output_type": "stream",
     "text": [
      "[1, 2, 3, 4, [1]]\n"
     ]
    }
   ],
   "source": [
    "print(y)"
   ]
  },
  {
   "cell_type": "code",
   "execution_count": 43,
   "id": "250937b7",
   "metadata": {},
   "outputs": [],
   "source": [
    "z = x"
   ]
  },
  {
   "cell_type": "code",
   "execution_count": 44,
   "id": "3000b197",
   "metadata": {},
   "outputs": [
    {
     "name": "stdout",
     "output_type": "stream",
     "text": [
      "[1, 2, 3, 4, [1], [2]]\n"
     ]
    }
   ],
   "source": [
    "print(x)"
   ]
  },
  {
   "cell_type": "code",
   "execution_count": 45,
   "id": "19d3bc8b",
   "metadata": {},
   "outputs": [
    {
     "name": "stdout",
     "output_type": "stream",
     "text": [
      "[1, 2, 3, 4, [1], [2]]\n"
     ]
    }
   ],
   "source": [
    "print(z)"
   ]
  },
  {
   "cell_type": "code",
   "execution_count": 46,
   "id": "d2af65ac",
   "metadata": {},
   "outputs": [],
   "source": [
    "x.append(2)"
   ]
  },
  {
   "cell_type": "code",
   "execution_count": 47,
   "id": "f28198d8",
   "metadata": {},
   "outputs": [
    {
     "name": "stdout",
     "output_type": "stream",
     "text": [
      "[1, 2, 3, 4, [1], [2], 2]\n"
     ]
    }
   ],
   "source": [
    "print(x)"
   ]
  },
  {
   "cell_type": "code",
   "execution_count": 48,
   "id": "e56366ca",
   "metadata": {},
   "outputs": [
    {
     "name": "stdout",
     "output_type": "stream",
     "text": [
      "[1, 2, 3, 4, [1], [2], 2]\n"
     ]
    }
   ],
   "source": [
    "print(z)"
   ]
  },
  {
   "cell_type": "code",
   "execution_count": 50,
   "id": "41767769",
   "metadata": {},
   "outputs": [
    {
     "name": "stdout",
     "output_type": "stream",
     "text": [
      "[[4], [2], [3]]\n",
      "[[4], [2], [3]]\n"
     ]
    }
   ],
   "source": [
    "a = [[1],[2],[3]]\n",
    "b = a.copy()\n",
    "a[0][0] = 4\n",
    "print(a)\n",
    "print(b)"
   ]
  },
  {
   "cell_type": "code",
   "execution_count": 51,
   "id": "bd5045b8",
   "metadata": {},
   "outputs": [
    {
     "name": "stdout",
     "output_type": "stream",
     "text": [
      "[[4], [2], [3]]\n",
      "[[1], [2], [3]]\n"
     ]
    }
   ],
   "source": [
    "import copy\n",
    "a = [[1],[2],[3]]\n",
    "b = copy.deepcopy(a)\n",
    "a[0][0] = 4\n",
    "print(a)\n",
    "print(b)"
   ]
  },
  {
   "cell_type": "code",
   "execution_count": null,
   "id": "002db12e",
   "metadata": {},
   "outputs": [],
   "source": []
  }
 ],
 "metadata": {
  "kernelspec": {
   "display_name": "Python 3 (ipykernel)",
   "language": "python",
   "name": "python3"
  },
  "language_info": {
   "codemirror_mode": {
    "name": "ipython",
    "version": 3
   },
   "file_extension": ".py",
   "mimetype": "text/x-python",
   "name": "python",
   "nbconvert_exporter": "python",
   "pygments_lexer": "ipython3",
   "version": "3.9.16"
  }
 },
 "nbformat": 4,
 "nbformat_minor": 5
}

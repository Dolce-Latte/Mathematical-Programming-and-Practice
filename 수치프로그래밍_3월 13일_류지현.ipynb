{
 "cells": [
  {
   "cell_type": "markdown",
   "id": "ec332e51-c037-4a35-9943-3d8a438463df",
   "metadata": {},
   "source": [
    "# 3월 13일 Mathmatical Programming and Practice.\n",
    "## Today\n",
    "\n",
    "### 1. Ananaconda install (Make virtual env)\n",
    "### 2. Python install (version 3.9)\n",
    "### 3. Library install (math, etc.)"
   ]
  },
  {
   "cell_type": "markdown",
   "id": "c7d626fd",
   "metadata": {},
   "source": [
    "##### last week continue"
   ]
  },
  {
   "cell_type": "code",
   "execution_count": 3,
   "id": "2a8ec07b",
   "metadata": {},
   "outputs": [
    {
     "name": "stdout",
     "output_type": "stream",
     "text": [
      "Python Python Python Python\n"
     ]
    }
   ],
   "source": [
    "a = \"Python\"\n",
    "b = 'Python'\n",
    "c = \"\"\"Python\"\"\"\n",
    "d = '''Python'''\n",
    "# we don't use 3rd, 4th type string\n",
    "\n",
    "print(a, b, c, d)"
   ]
  },
  {
   "cell_type": "markdown",
   "id": "b158146b",
   "metadata": {},
   "source": [
    "#### Escape code"
   ]
  },
  {
   "cell_type": "code",
   "execution_count": 9,
   "id": "abacef2d",
   "metadata": {},
   "outputs": [
    {
     "name": "stdout",
     "output_type": "stream",
     "text": [
      "This lecture is Mathmatical Programming.\n",
      "Next course is Numerical Analysis.\n"
     ]
    }
   ],
   "source": [
    "print(\"This lecture is Mathmatical Programming.\\nNext course is Numerical Analysis.\")"
   ]
  },
  {
   "cell_type": "code",
   "execution_count": 10,
   "id": "94cf7a6d",
   "metadata": {},
   "outputs": [
    {
     "name": "stdout",
     "output_type": "stream",
     "text": [
      "This lecture is Mathmatical Programming.\tNext course is Numerical Analysis.\n"
     ]
    }
   ],
   "source": [
    "print(\"This lecture is Mathmatical Programming.\\tNext course is Numerical Analysis.\")"
   ]
  },
  {
   "cell_type": "code",
   "execution_count": 12,
   "id": "d534ef0d",
   "metadata": {},
   "outputs": [
    {
     "name": "stdout",
     "output_type": "stream",
     "text": [
      "C:\\window\\name\n"
     ]
    }
   ],
   "source": [
    "print(r\"C:\\window\\name\")"
   ]
  },
  {
   "cell_type": "code",
   "execution_count": 14,
   "id": "d2d17d17",
   "metadata": {},
   "outputs": [
    {
     "name": "stdout",
     "output_type": "stream",
     "text": [
      "'\n"
     ]
    }
   ],
   "source": [
    "print(\"'\")"
   ]
  },
  {
   "cell_type": "code",
   "execution_count": 15,
   "id": "a5e981c0",
   "metadata": {},
   "outputs": [
    {
     "name": "stdout",
     "output_type": "stream",
     "text": [
      "\"\n"
     ]
    }
   ],
   "source": [
    "print(\"\\\"\")"
   ]
  },
  {
   "cell_type": "code",
   "execution_count": null,
   "id": "af8f8c43",
   "metadata": {},
   "outputs": [],
   "source": []
  }
 ],
 "metadata": {
  "celltoolbar": "Raw Cell Format",
  "kernelspec": {
   "display_name": "Python 3 (ipykernel)",
   "language": "python",
   "name": "python3"
  },
  "language_info": {
   "codemirror_mode": {
    "name": "ipython",
    "version": 3
   },
   "file_extension": ".py",
   "mimetype": "text/x-python",
   "name": "python",
   "nbconvert_exporter": "python",
   "pygments_lexer": "ipython3",
   "version": "3.9.16"
  }
 },
 "nbformat": 4,
 "nbformat_minor": 5
}

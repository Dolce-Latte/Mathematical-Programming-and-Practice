{
 "cells": [
  {
   "cell_type": "markdown",
   "id": "eb1fb1c2-bdf7-4b24-86c9-a022aa00cfd4",
   "metadata": {},
   "source": [
    "# 3월 15일"
   ]
  },
  {
   "cell_type": "code",
   "execution_count": 2,
   "id": "a804caec-f647-4d21-9aad-0056fe13968d",
   "metadata": {},
   "outputs": [
    {
     "name": "stdout",
     "output_type": "stream",
     "text": [
      "이 과목은 수치프로그래밍이다.\n"
     ]
    }
   ],
   "source": [
    "#문자열 연산\n",
    "\n",
    "a = '이 과목은 '\n",
    "b = '수치프로그래밍이다.'\n",
    "\n",
    "print(a + b)"
   ]
  },
  {
   "cell_type": "code",
   "execution_count": 3,
   "id": "8325ab79",
   "metadata": {},
   "outputs": [
    {
     "name": "stdout",
     "output_type": "stream",
     "text": [
      "이 과목은 수치프로그래밍이다.\n"
     ]
    }
   ],
   "source": [
    "a += b\n",
    "print(a)"
   ]
  },
  {
   "cell_type": "code",
   "execution_count": 4,
   "id": "105391a9",
   "metadata": {},
   "outputs": [
    {
     "name": "stdout",
     "output_type": "stream",
     "text": [
      "이 과목은 수치프로그래밍이다.이 과목은 수치프로그래밍이다.이 과목은 수치프로그래밍이다.이 과목은 수치프로그래밍이다.이 과목은 수치프로그래밍이다.\n"
     ]
    }
   ],
   "source": [
    "print(a*5)"
   ]
  },
  {
   "cell_type": "code",
   "execution_count": 6,
   "id": "bc43e1d0",
   "metadata": {},
   "outputs": [
    {
     "name": "stdout",
     "output_type": "stream",
     "text": [
      "==============================\n",
      "Hi\n",
      "==============================\n"
     ]
    }
   ],
   "source": [
    "print(\"=\"*30)\n",
    "print(\"Hi\")\n",
    "print(\"=\"*30)"
   ]
  },
  {
   "cell_type": "code",
   "execution_count": 10,
   "id": "58df3f48",
   "metadata": {},
   "outputs": [
    {
     "name": "stdout",
     "output_type": "stream",
     "text": [
      "그\n"
     ]
    }
   ],
   "source": [
    "b = \"수치프로그래밍 및 실습이다.\"\n",
    "\n",
    "print(b[4])"
   ]
  },
  {
   "cell_type": "code",
   "execution_count": 15,
   "id": "49c42bad",
   "metadata": {},
   "outputs": [
    {
     "data": {
      "text/plain": [
       "'로그래밍 및 실'"
      ]
     },
     "execution_count": 15,
     "metadata": {},
     "output_type": "execute_result"
    }
   ],
   "source": [
    "b[3:-4]"
   ]
  },
  {
   "cell_type": "code",
   "execution_count": 16,
   "id": "a9d11b40",
   "metadata": {},
   "outputs": [],
   "source": [
    "a = \"%d시입니다.\" %5"
   ]
  },
  {
   "cell_type": "code",
   "execution_count": 18,
   "id": "9d366d47",
   "metadata": {},
   "outputs": [
    {
     "data": {
      "text/plain": [
       "'5시입니다.'"
      ]
     },
     "execution_count": 18,
     "metadata": {},
     "output_type": "execute_result"
    }
   ],
   "source": [
    "a"
   ]
  },
  {
   "cell_type": "markdown",
   "id": "1fce8642",
   "metadata": {},
   "source": [
    "#### format code with numerical data"
   ]
  },
  {
   "cell_type": "code",
   "execution_count": 21,
   "id": "b8f5fbcb",
   "metadata": {},
   "outputs": [
    {
     "data": {
      "text/plain": [
       "'    안녕하세요.'"
      ]
     },
     "execution_count": 21,
     "metadata": {},
     "output_type": "execute_result"
    }
   ],
   "source": [
    "# 10s => 전체 문자열의 길이를 10으로 만든다.\n",
    "\n",
    "\"%10s\" % \"안녕하세요.\""
   ]
  },
  {
   "cell_type": "code",
   "execution_count": 23,
   "id": "7bf25634",
   "metadata": {},
   "outputs": [
    {
     "data": {
      "text/plain": [
       "'    3.1416'"
      ]
     },
     "execution_count": 23,
     "metadata": {},
     "output_type": "execute_result"
    }
   ],
   "source": [
    "\"%10.4f\" % 3.14159265"
   ]
  },
  {
   "cell_type": "code",
   "execution_count": 25,
   "id": "c5fb889a",
   "metadata": {},
   "outputs": [
    {
     "data": {
      "text/plain": [
       "'지금은 hello시이다.'"
      ]
     },
     "execution_count": 25,
     "metadata": {},
     "output_type": "execute_result"
    }
   ],
   "source": [
    "\"지금은 {0}시이다.\".format(\"hello\")"
   ]
  },
  {
   "cell_type": "code",
   "execution_count": 35,
   "id": "ccd0398e",
   "metadata": {},
   "outputs": [
    {
     "name": "stdout",
     "output_type": "stream",
     "text": [
      "    3     \n",
      "3         \n"
     ]
    }
   ],
   "source": [
    "print(\"{0:^10}\".format(3)) \n",
    "print(\"{0:<10}\".format(3))"
   ]
  },
  {
   "cell_type": "code",
   "execution_count": 36,
   "id": "b0bebd81",
   "metadata": {},
   "outputs": [
    {
     "name": "stdout",
     "output_type": "stream",
     "text": [
      "====3=====\n"
     ]
    }
   ],
   "source": [
    "print(\"{0:=^10}\".format(3))"
   ]
  },
  {
   "cell_type": "code",
   "execution_count": 37,
   "id": "e58858fd",
   "metadata": {},
   "outputs": [
    {
     "name": "stdout",
     "output_type": "stream",
     "text": [
      "3.1416\n"
     ]
    }
   ],
   "source": [
    "print(\"{0:.4f}\".format(3.141592))"
   ]
  },
  {
   "cell_type": "markdown",
   "id": "b9e4c554",
   "metadata": {},
   "source": [
    "## 실습"
   ]
  },
  {
   "cell_type": "code",
   "execution_count": 49,
   "id": "a7892ffe",
   "metadata": {},
   "outputs": [
    {
     "name": "stdout",
     "output_type": "stream",
     "text": [
      "2000년 이전에 태어난 경우 주민등록 번호를 입력하시오 : 910215\n",
      "Year : 1991, month : 2월, day : 15일\n"
     ]
    }
   ],
   "source": [
    "s = input(\"2000년 이전에 태어난 경우 주민등록 번호를 입력하시오 : \")\n",
    "\n",
    "year = \"19\" + s[:2]\n",
    "month = int(s[2:4])\n",
    "day = int(s[4:6])\n",
    "\n",
    "print(\"Year : {year}년, month : {month}월, day : {day}일\".format(year=year, month = month, day = day))"
   ]
  },
  {
   "cell_type": "code",
   "execution_count": 50,
   "id": "96b26eb8",
   "metadata": {},
   "outputs": [
    {
     "name": "stdout",
     "output_type": "stream",
     "text": [
      "2000년 이후에 태어난 경우 주민등록 번호를 입력하시오 : 051130\n",
      "Year : 2005년, month : 11월, day : 30일\n"
     ]
    }
   ],
   "source": [
    "s = input(\"2000년 이후에 태어난 경우 주민등록 번호를 입력하시오 : \")\n",
    "\n",
    "year = \"20\" + s[:2]\n",
    "month = int(s[2:4])\n",
    "day = int(s[4:6])\n",
    "\n",
    "print(\"Year : {year}년, month : {month}월, day : {day}일\".format(year=year, month = month, day = day))"
   ]
  },
  {
   "cell_type": "code",
   "execution_count": null,
   "id": "d8554060",
   "metadata": {},
   "outputs": [],
   "source": []
  }
 ],
 "metadata": {
  "kernelspec": {
   "display_name": "Python 3 (ipykernel)",
   "language": "python",
   "name": "python3"
  },
  "language_info": {
   "codemirror_mode": {
    "name": "ipython",
    "version": 3
   },
   "file_extension": ".py",
   "mimetype": "text/x-python",
   "name": "python",
   "nbconvert_exporter": "python",
   "pygments_lexer": "ipython3",
   "version": "3.9.16"
  }
 },
 "nbformat": 4,
 "nbformat_minor": 5
}
